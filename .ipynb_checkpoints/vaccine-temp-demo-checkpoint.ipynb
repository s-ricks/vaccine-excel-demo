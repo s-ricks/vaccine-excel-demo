{
 "cells": [
  {
   "cell_type": "code",
   "execution_count": 1,
   "id": "1b261cb6",
   "metadata": {},
   "outputs": [],
   "source": [
    "import exco"
   ]
  },
  {
   "cell_type": "code",
   "execution_count": 24,
   "id": "f2ba3d4e",
   "metadata": {},
   "outputs": [],
   "source": [
    "processor = exco.from_excel('./id-template.xlsx')"
   ]
  },
  {
   "cell_type": "code",
   "execution_count": 25,
   "id": "5a18b7b1",
   "metadata": {},
   "outputs": [
    {
     "data": {
      "text/plain": [
       "ExcelProcessingResult(cell_results={CellLocation(sheet_name='Sheet1', coordinate='B1'): [CellExtractionTaskResult(key='name', locating_result=LocatingResult(location=CellLocation(sheet_name='Sheet1', coordinate='B1'), is_ok=True, msg='', exception=None), parsing_result=ParsingResult(value='Jaboooti', is_ok=True, msg='', exception=None), metadata={}, validation_results={}, assumption_results={})], CellLocation(sheet_name='Sheet1', coordinate='B2'): [CellExtractionTaskResult(key='date_of_birth', locating_result=LocatingResult(location=CellLocation(sheet_name='Sheet1', coordinate='B2'), is_ok=True, msg='', exception=None), parsing_result=ParsingResult(value=datetime.date(2011, 1, 14), is_ok=True, msg='', exception=None), metadata={}, validation_results={}, assumption_results={})], CellLocation(sheet_name='Sheet1', coordinate='B3'): [CellExtractionTaskResult(key='nationality', locating_result=LocatingResult(location=CellLocation(sheet_name='Sheet1', coordinate='B3'), is_ok=True, msg='', exception=None), parsing_result=ParsingResult(value='Sudan', is_ok=True, msg='', exception=None), metadata={}, validation_results={}, assumption_results={})], CellLocation(sheet_name='Sheet1', coordinate='B4'): [CellExtractionTaskResult(key='gender', locating_result=LocatingResult(location=CellLocation(sheet_name='Sheet1', coordinate='B4'), is_ok=True, msg='', exception=None), parsing_result=ParsingResult(value='Male', is_ok=True, msg='', exception=None), metadata={}, validation_results={}, assumption_results={})]}, table_results={CellLocation(sheet_name='Sheet1', coordinate='C7'): [TableExtractionTaskResult(key='some_table', locating_result=LocatingResult(location=CellLocation(sheet_name='Sheet1', coordinate='C7'), is_ok=True, msg='', exception=None), row_results=[RowExtractionTaskResult(cell_results={'col1': CellExtractionTaskResult(key='col1', locating_result=LocatingResult(location=CellLocation(sheet_name='Sheet1', coordinate='C7'), is_ok=True, msg='', exception=None), parsing_result=ParsingResult(value=None, is_ok=False, msg='Parsing C7 fail.\\nvalue => \"col1\"\\nUnable to parse col1 to int', exception=ParsingFailException('Unable to parse col1 to int')), metadata={}, validation_results={}, assumption_results={}), 'col2': CellExtractionTaskResult(key='col2', locating_result=LocatingResult(location=CellLocation(sheet_name='Sheet1', coordinate='D7'), is_ok=True, msg='', exception=None), parsing_result=ParsingResult(value='col2', is_ok=True, msg='', exception=None), metadata={}, validation_results={}, assumption_results={})}), RowExtractionTaskResult(cell_results={'col1': CellExtractionTaskResult(key='col1', locating_result=LocatingResult(location=CellLocation(sheet_name='Sheet1', coordinate='C8'), is_ok=True, msg='', exception=None), parsing_result=ParsingResult(value=4, is_ok=True, msg='', exception=None), metadata={}, validation_results={}, assumption_results={}), 'col2': CellExtractionTaskResult(key='col2', locating_result=LocatingResult(location=CellLocation(sheet_name='Sheet1', coordinate='D8'), is_ok=True, msg='', exception=None), parsing_result=ParsingResult(value='d', is_ok=True, msg='', exception=None), metadata={}, validation_results={}, assumption_results={})}), RowExtractionTaskResult(cell_results={'col1': CellExtractionTaskResult(key='col1', locating_result=LocatingResult(location=CellLocation(sheet_name='Sheet1', coordinate='C9'), is_ok=True, msg='', exception=None), parsing_result=ParsingResult(value=5, is_ok=True, msg='', exception=None), metadata={}, validation_results={}, assumption_results={}), 'col2': CellExtractionTaskResult(key='col2', locating_result=LocatingResult(location=CellLocation(sheet_name='Sheet1', coordinate='D9'), is_ok=True, msg='', exception=None), parsing_result=ParsingResult(value='e', is_ok=True, msg='', exception=None), metadata={}, validation_results={}, assumption_results={})}), RowExtractionTaskResult(cell_results={'col1': CellExtractionTaskResult(key='col1', locating_result=LocatingResult(location=CellLocation(sheet_name='Sheet1', coordinate='C10'), is_ok=True, msg='', exception=None), parsing_result=ParsingResult(value=6, is_ok=True, msg='', exception=None), metadata={}, validation_results={}, assumption_results={}), 'col2': CellExtractionTaskResult(key='col2', locating_result=LocatingResult(location=CellLocation(sheet_name='Sheet1', coordinate='D10'), is_ok=True, msg='', exception=None), parsing_result=ParsingResult(value='f', is_ok=True, msg='', exception=None), metadata={}, validation_results={}, assumption_results={})})], end_condition_results=[EndConditionCollectionResult(end_condition_results=[TableEndConditionResult(should_terminate=False, is_inclusive=False, is_ok=True, msg='', exception=None)]), EndConditionCollectionResult(end_condition_results=[TableEndConditionResult(should_terminate=False, is_inclusive=False, is_ok=True, msg='', exception=None)]), EndConditionCollectionResult(end_condition_results=[TableEndConditionResult(should_terminate=False, is_inclusive=False, is_ok=True, msg='', exception=None)]), EndConditionCollectionResult(end_condition_results=[TableEndConditionResult(should_terminate=False, is_inclusive=False, is_ok=True, msg='', exception=None)]), EndConditionCollectionResult(end_condition_results=[TableEndConditionResult(should_terminate=True, is_inclusive=False, is_ok=True, msg='', exception=None)])])]})"
      ]
     },
     "execution_count": 25,
     "metadata": {},
     "output_type": "execute_result"
    }
   ],
   "source": [
    "result = processor.process_excel('./id-example.xlsx')\n",
    "result"
   ]
  },
  {
   "cell_type": "code",
   "execution_count": 26,
   "id": "b67bea25",
   "metadata": {},
   "outputs": [
    {
     "data": {
      "text/plain": [
       "{'name': 'Jaboooti',\n",
       " 'date_of_birth': datetime.date(2011, 1, 14),\n",
       " 'nationality': 'Sudan',\n",
       " 'gender': 'Male',\n",
       " 'some_table': [{'col1': None, 'col2': 'col2'},\n",
       "  {'col1': 4, 'col2': 'd'},\n",
       "  {'col1': 5, 'col2': 'e'},\n",
       "  {'col1': 6, 'col2': 'f'}]}"
      ]
     },
     "execution_count": 26,
     "metadata": {},
     "output_type": "execute_result"
    }
   ],
   "source": [
    "result.to_dict()"
   ]
  },
  {
   "cell_type": "code",
   "execution_count": 2,
   "id": "62b5d56a",
   "metadata": {},
   "outputs": [],
   "source": [
    "processor = exco.from_excel('./trial-demo.xlsx')"
   ]
  },
  {
   "cell_type": "code",
   "execution_count": 6,
   "id": "43c8fe00",
   "metadata": {},
   "outputs": [],
   "source": [
    "res = processor.process_excel('./vaccine-2.xlsx')"
   ]
  },
  {
   "cell_type": "code",
   "execution_count": 7,
   "id": "67e8016e",
   "metadata": {},
   "outputs": [
    {
     "data": {
      "text/plain": [
       "{'ID': 1233909,\n",
       " 'NAME': 'OSAMA BIN WAHID',\n",
       " 'EMAIL': 'ALKAEDA@IBNWAHID.COM',\n",
       " 'DATE': datetime.date(2022, 4, 1),\n",
       " 'vaccine_table': [{'DOSE_NO': 1,\n",
       "   'VACCINE_NAME': 'Moderna',\n",
       "   'DATE_ISSUED': datetime.date(2021, 12, 23),\n",
       "   'LOT_NO': 597001},\n",
       "  {'DOSE_NO': 2,\n",
       "   'VACCINE_NAME': 'Moderna',\n",
       "   'DATE_ISSUED': datetime.date(2022, 2, 28),\n",
       "   'LOT_NO': 887790},\n",
       "  {'DOSE_NO': 3,\n",
       "   'VACCINE_NAME': 'AstraZeneca',\n",
       "   'DATE_ISSUED': datetime.date(2022, 5, 15),\n",
       "   'LOT_NO': 347590}]}"
      ]
     },
     "execution_count": 7,
     "metadata": {},
     "output_type": "execute_result"
    }
   ],
   "source": [
    "res.to_dict()"
   ]
  },
  {
   "cell_type": "code",
   "execution_count": 15,
   "id": "a2ae944c",
   "metadata": {},
   "outputs": [],
   "source": [
    "from exco import exco_watch"
   ]
  },
  {
   "cell_type": "code",
   "execution_count": null,
   "id": "64614256",
   "metadata": {},
   "outputs": [
    {
     "name": "stdout",
     "output_type": "stream",
     "text": [
      "{'DATE': datetime.date(2022, 7, 22),\n",
      " 'EMAIL': 'BENDOVER@APPLETECH.COM',\n",
      " 'ID': 5100344,\n",
      " 'NAME': 'BEN DOVER',\n",
      " 'vaccine_table': [{'DATE_ISSUED': datetime.date(2021, 12, 1),\n",
      "                    'DOSE_NO': 1,\n",
      "                    'LOT_NO': 333432,\n",
      "                    'VACCINE_NAME': 'Pfizer'},\n",
      "                   {'DATE_ISSUED': datetime.date(2022, 3, 14),\n",
      "                    'DOSE_NO': 2,\n",
      "                    'LOT_NO': 988458,\n",
      "                    'VACCINE_NAME': 'Pfizer'},\n",
      "                   {'DATE_ISSUED': datetime.date(2022, 6, 23),\n",
      "                    'DOSE_NO': 3,\n",
      "                    'LOT_NO': 500913,\n",
      "                    'VACCINE_NAME': 'Moderna'}]}\n",
      "Latest Result At: 11:24:49\n",
      "{'DATE': datetime.date(2022, 7, 22),\n",
      " 'EMAIL': 'BENDOVER@APPLETECH.COM',\n",
      " 'ID': 5100344,\n",
      " 'NAME': 'BEN DOVER',\n",
      " 'vaccine_table': [{'DATE_ISSUED': datetime.date(2021, 12, 1),\n",
      "                    'DOSE_NO': 1,\n",
      "                    'LOT_NO': 333432,\n",
      "                    'VACCINE_NAME': 'Pfizer'},\n",
      "                   {'DATE_ISSUED': datetime.date(2022, 3, 14),\n",
      "                    'DOSE_NO': 2,\n",
      "                    'LOT_NO': 988458,\n",
      "                    'VACCINE_NAME': 'Pfizer'},\n",
      "                   {'DATE_ISSUED': datetime.date(2022, 6, 23),\n",
      "                    'DOSE_NO': 3,\n",
      "                    'LOT_NO': 500913,\n",
      "                    'VACCINE_NAME': 'AstraZeneca'}]}\n",
      "Latest Result At: 11:25:22\n"
     ]
    }
   ],
   "source": [
    "exco_watch.ExcoWatch.run('./trial-demo.xlsx')"
   ]
  }
 ],
 "metadata": {
  "kernelspec": {
   "display_name": "venv",
   "language": "python",
   "name": "venv"
  },
  "language_info": {
   "codemirror_mode": {
    "name": "ipython",
    "version": 3
   },
   "file_extension": ".py",
   "mimetype": "text/x-python",
   "name": "python",
   "nbconvert_exporter": "python",
   "pygments_lexer": "ipython3",
   "version": "3.9.13"
  }
 },
 "nbformat": 4,
 "nbformat_minor": 5
}
