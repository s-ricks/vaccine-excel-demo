{
 "cells": [
  {
   "cell_type": "code",
   "execution_count": 2,
   "id": "1b261cb6",
   "metadata": {},
   "outputs": [],
   "source": [
    "import exco"
   ]
  },
  {
   "cell_type": "code",
   "execution_count": 11,
   "id": "62b5d56a",
   "metadata": {},
   "outputs": [],
   "source": [
    "processor = exco.from_excel('./trial-demo.xlsx')"
   ]
  },
  {
   "cell_type": "code",
   "execution_count": 16,
   "id": "4965048e",
   "metadata": {},
   "outputs": [],
   "source": [
    "res1 = processor.process_excel('./vaccine-1.xlsx')"
   ]
  },
  {
   "cell_type": "code",
   "execution_count": 17,
   "id": "f6917e23",
   "metadata": {},
   "outputs": [
    {
     "data": {
      "text/plain": [
       "{'ID': 3345565,\n",
       " 'NAME': 'PETER GRIFFIN',\n",
       " 'ADDRESS': '99/12 SOUTHPARK',\n",
       " 'EMAIL': 'familyguy@gmail.com',\n",
       " 'DATE OF BIRTH': datetime.date(1987, 7, 26),\n",
       " 'vaccine_table': [{'DOSE_NO': 1,\n",
       "   'VACCINE_NAME': 'AstraZeneca',\n",
       "   'DATE_ISSUED': datetime.date(2021, 12, 23),\n",
       "   'LOT_NO': 597001},\n",
       "  {'DOSE_NO': 2,\n",
       "   'VACCINE_NAME': 'AstraZeneca',\n",
       "   'DATE_ISSUED': datetime.date(2022, 2, 28),\n",
       "   'LOT_NO': 887790},\n",
       "  {'DOSE_NO': 3,\n",
       "   'VACCINE_NAME': 'Pfizer',\n",
       "   'DATE_ISSUED': datetime.date(2022, 5, 15),\n",
       "   'LOT_NO': 347590}]}"
      ]
     },
     "execution_count": 17,
     "metadata": {},
     "output_type": "execute_result"
    }
   ],
   "source": [
    "res1.to_dict()"
   ]
  },
  {
   "cell_type": "code",
   "execution_count": 12,
   "id": "43c8fe00",
   "metadata": {},
   "outputs": [],
   "source": [
    "res2 = processor.process_excel('./vaccine-2.xlsx')"
   ]
  },
  {
   "cell_type": "code",
   "execution_count": 13,
   "id": "67e8016e",
   "metadata": {},
   "outputs": [
    {
     "data": {
      "text/plain": [
       "{'ID': 1233909,\n",
       " 'NAME': 'JOHN DOE',\n",
       " 'ADDRESS': '122/2 JOHNSONVILLE',\n",
       " 'EMAIL': 'johndoe@something.com',\n",
       " 'DATE OF BIRTH': datetime.date(1990, 4, 1),\n",
       " 'vaccine_table': [{'DOSE_NO': 1,\n",
       "   'VACCINE_NAME': 'Moderna',\n",
       "   'DATE_ISSUED': datetime.date(2021, 12, 23),\n",
       "   'LOT_NO': 597001},\n",
       "  {'DOSE_NO': 2,\n",
       "   'VACCINE_NAME': 'Moderna',\n",
       "   'DATE_ISSUED': datetime.date(2022, 2, 28),\n",
       "   'LOT_NO': 887790},\n",
       "  {'DOSE_NO': 3,\n",
       "   'VACCINE_NAME': 'AstraZeneca',\n",
       "   'DATE_ISSUED': datetime.date(2022, 5, 15),\n",
       "   'LOT_NO': 347590}]}"
      ]
     },
     "execution_count": 13,
     "metadata": {},
     "output_type": "execute_result"
    }
   ],
   "source": [
    "res2.to_dict()"
   ]
  },
  {
   "cell_type": "code",
   "execution_count": 9,
   "id": "3b2c054f",
   "metadata": {},
   "outputs": [],
   "source": [
    "from exco import exco_watch"
   ]
  },
  {
   "cell_type": "code",
   "execution_count": 10,
   "id": "4c82f061",
   "metadata": {
    "scrolled": true
   },
   "outputs": [
    {
     "name": "stdout",
     "output_type": "stream",
     "text": [
      "{'DATE': datetime.date(2022, 7, 22),\n",
      " 'EMAIL': 'JOHNSON@THEVILLE.COM',\n",
      " 'ID': 5100344,\n",
      " 'NAME': 'JOHNSON VILLE',\n",
      " 'vaccine_table': [{'DATE_ISSUED': datetime.date(2021, 12, 1),\n",
      "                    'DOSE_NO': 1,\n",
      "                    'LOT_NO': 333432,\n",
      "                    'VACCINE_NAME': 'Pfizer'},\n",
      "                   {'DATE_ISSUED': datetime.date(2022, 3, 14),\n",
      "                    'DOSE_NO': 2,\n",
      "                    'LOT_NO': 988458,\n",
      "                    'VACCINE_NAME': 'Moderna'},\n",
      "                   {'DATE_ISSUED': datetime.date(2022, 6, 23),\n",
      "                    'DOSE_NO': 3,\n",
      "                    'LOT_NO': 500913,\n",
      "                    'VACCINE_NAME': 'AstraZeneca'}]}\n",
      "Latest Result At: 17:26:37\n",
      "{'DATE': datetime.date(2001, 9, 11),\n",
      " 'EMAIL': 'ALKAEDA@IBNWAHID.COM',\n",
      " 'ID': 5100344,\n",
      " 'NAME': 'OSAMA BIN WAHID',\n",
      " 'vaccine_table': [{'DATE_ISSUED': datetime.date(2021, 12, 1),\n",
      "                    'DOSE_NO': 1,\n",
      "                    'LOT_NO': 444556,\n",
      "                    'VACCINE_NAME': 'Pfizer'},\n",
      "                   {'DATE_ISSUED': datetime.date(2022, 3, 14),\n",
      "                    'DOSE_NO': 2,\n",
      "                    'LOT_NO': 775353,\n",
      "                    'VACCINE_NAME': 'Moderna'},\n",
      "                   {'DATE_ISSUED': datetime.date(2022, 6, 23),\n",
      "                    'DOSE_NO': 3,\n",
      "                    'LOT_NO': 908483,\n",
      "                    'VACCINE_NAME': 'Pfizer'}]}\n",
      "Latest Result At: 17:27:44\n",
      "{'DATE': datetime.date(2001, 9, 11),\n",
      " 'EMAIL': 'ALKAEDA@IBNWAHID.COM',\n",
      " 'ID': 5100344,\n",
      " 'NAME': 'OSAMA BIN WAHID',\n",
      " 'vaccine_table': [{'DATE_ISSUED': datetime.date(2021, 12, 1),\n",
      "                    'DOSE_NO': 1,\n",
      "                    'LOT_NO': 444556,\n",
      "                    'VACCINE_NAME': 'Pfizer'},\n",
      "                   {'DATE_ISSUED': datetime.date(2022, 3, 14),\n",
      "                    'DOSE_NO': 2,\n",
      "                    'LOT_NO': 775353,\n",
      "                    'VACCINE_NAME': 'Moderna'},\n",
      "                   {'DATE_ISSUED': datetime.date(2022, 6, 23),\n",
      "                    'DOSE_NO': 3,\n",
      "                    'LOT_NO': 908483,\n",
      "                    'VACCINE_NAME': 'Pfizer'}]}\n",
      "Latest Result At: 17:28:00\n",
      "{'DATE': datetime.date(2001, 9, 11),\n",
      " 'EMAIL': 'ALKAEDA@IBNWAHID.COM',\n",
      " 'ID': 5100344,\n",
      " 'NAME': 'OSAMA BIN WAHID',\n",
      " 'vaccine_table': [{'DATE_ISSUED': datetime.date(2021, 12, 1),\n",
      "                    'DOSE_NO': 1,\n",
      "                    'LOT_NO': 444556,\n",
      "                    'VACCINE_NAME': 'Pfizer'},\n",
      "                   {'DATE_ISSUED': datetime.date(2022, 3, 14),\n",
      "                    'DOSE_NO': 2,\n",
      "                    'LOT_NO': 775353,\n",
      "                    'VACCINE_NAME': 'Moderna'},\n",
      "                   {'DATE_ISSUED': datetime.date(2022, 6, 23),\n",
      "                    'DOSE_NO': 3,\n",
      "                    'LOT_NO': 908483,\n",
      "                    'VACCINE_NAME': 'Pfizer'}]}\n",
      "Latest Result At: 17:28:18\n",
      "{'DATE': datetime.date(2001, 9, 11),\n",
      " 'EMAIL': 'ALKAEDA@IBNWAHID.COM',\n",
      " 'ID': 5100344,\n",
      " 'NAME': 'OSAMA BIN WAHID',\n",
      " 'vaccine_table': [{'DATE_ISSUED': datetime.date(2021, 12, 1),\n",
      "                    'DOSE_NO': 1,\n",
      "                    'LOT_NO': 444556,\n",
      "                    'VACCINE_NAME': 'Pfizer'},\n",
      "                   {'DATE_ISSUED': datetime.date(2022, 3, 14),\n",
      "                    'DOSE_NO': 2,\n",
      "                    'LOT_NO': 775353,\n",
      "                    'VACCINE_NAME': 'Moderna'},\n",
      "                   {'DATE_ISSUED': datetime.date(2022, 6, 23),\n",
      "                    'DOSE_NO': 3,\n",
      "                    'LOT_NO': 908483,\n",
      "                    'VACCINE_NAME': 'Pfizer'}]}\n",
      "Latest Result At: 17:30:18\n",
      "Quitting...\n"
     ]
    }
   ],
   "source": [
    "exco_watch.ExcoWatch.run('./trial-demo.xlsx')"
   ]
  },
  {
   "cell_type": "code",
   "execution_count": null,
   "id": "0bfbf826",
   "metadata": {},
   "outputs": [],
   "source": []
  }
 ],
 "metadata": {
  "kernelspec": {
   "display_name": "venv",
   "language": "python",
   "name": "venv"
  },
  "language_info": {
   "codemirror_mode": {
    "name": "ipython",
    "version": 3
   },
   "file_extension": ".py",
   "mimetype": "text/x-python",
   "name": "python",
   "nbconvert_exporter": "python",
   "pygments_lexer": "ipython3",
   "version": "3.9.13"
  }
 },
 "nbformat": 4,
 "nbformat_minor": 5
}
